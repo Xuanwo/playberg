{
 "cells": [
  {
   "cell_type": "code",
   "execution_count": 1,
   "id": "37444edb-9ec0-4bb1-8ccb-9adcea241594",
   "metadata": {},
   "outputs": [],
   "source": [
    "!pip install pyiceberg -q"
   ]
  },
  {
   "cell_type": "code",
   "execution_count": 2,
   "id": "7fae5feb-c19c-4169-b647-3676a74b61ec",
   "metadata": {},
   "outputs": [
    {
     "name": "stdout",
     "output_type": "stream",
     "text": [
      "(1,)\n"
     ]
    }
   ],
   "source": [
    "import os\n",
    "\n",
    "from pyiceberg.catalog import load_catalog\n",
    "catalog = load_catalog('default', **{\n",
    "        'uri': 'http://rest:8181/',\n",
    "        'warehouse': 'warehouse',\n",
    "        's3.endpoint': 'http://minio.local:9000',\n",
    "        's3.access-key-id': 'admin',\n",
    "        's3.secret-access-key': 'password',\n",
    "        })"
   ]
  },
  {
   "cell_type": "code",
   "execution_count": 3,
   "id": "9a3a9b1d-eda6-4b9d-8ab3-791c34241615",
   "metadata": {},
   "outputs": [
    {
     "name": "stdout",
     "output_type": "stream",
     "text": [
      "Available namespaces: [('tpcds',)]\n",
      "Data loaded successfully\n",
      "   s_store_sk        s_store_id s_rec_start_date s_rec_end_date  \\\n",
      "0           1  AAAAAAAABAAAAAAA       1997-03-13           None   \n",
      "1           2  AAAAAAAACAAAAAAA       1997-03-13     2000-03-12   \n",
      "2           3  AAAAAAAACAAAAAAA       2000-03-13           None   \n",
      "3           4  AAAAAAAAEAAAAAAA       1997-03-13     1999-03-13   \n",
      "4           5  AAAAAAAAEAAAAAAA       1999-03-14     2001-03-12   \n",
      "\n",
      "   s_closed_date_sk s_store_name  s_number_employees  s_floor_space  s_hours  \\\n",
      "0         2451189.0        ought                 245        5250760  8AM-4PM   \n",
      "1               NaN         able                 236        5285950  8AM-4PM   \n",
      "2               NaN         able                 236        7557959  8AM-4PM   \n",
      "3         2451044.0          ese                 218        9341467  8AM-4PM   \n",
      "4         2450910.0         anti                 288        9078805  8AM-4PM   \n",
      "\n",
      "      s_manager  ...  s_street_name s_street_type s_suite_number    s_city  \\\n",
      "0  William Ward  ...        Spring             Wy      Suite 250    Midway   \n",
      "1   Scott Smith  ...      Sycamore            Dr.      Suite 410    Midway   \n",
      "2   Scott Smith  ...    Park Laurel          Road        Suite T    Midway   \n",
      "3   Edwin Adams  ...          Lake             Ln      Suite 260    Midway   \n",
      "4   Edwin Adams  ...        Lee 6th         Court       Suite 80  Fairview   \n",
      "\n",
      "            s_county s_state  s_zip      s_country s_gmt_offset  \\\n",
      "0  Williamson County      TN  31904  United States        -5.00   \n",
      "1  Williamson County      TN  31904  United States        -5.00   \n",
      "2  Williamson County      TN  31904  United States        -5.00   \n",
      "3  Williamson County      TN  31904  United States        -5.00   \n",
      "4  Williamson County      TN  35709  United States        -5.00   \n",
      "\n",
      "  s_tax_percentage  \n",
      "0             0.03  \n",
      "1             0.03  \n",
      "2             0.03  \n",
      "3             0.03  \n",
      "4             0.03  \n",
      "\n",
      "[5 rows x 29 columns]\n"
     ]
    }
   ],
   "source": [
    "# Test catalog connection\n",
    "namespaces = catalog.list_namespaces()\n",
    "print(\"Available namespaces:\", namespaces)\n",
    "\n",
    "# Load your table (replace with your actual namespace and table name)\n",
    "table = catalog.load_table(\"tpcds.store\")\n",
    "\n",
    "# If you need to read data\n",
    "df = table.scan().to_pandas()\n",
    "print(\"Data loaded successfully\")\n",
    "print(df.head())"
   ]
  },
  {
   "cell_type": "code",
   "execution_count": null,
   "id": "41b6a752-78f4-465f-b755-8a5761ea5564",
   "metadata": {},
   "outputs": [],
   "source": []
  }
 ],
 "metadata": {
  "kernelspec": {
   "display_name": "Python 3 (ipykernel)",
   "language": "python",
   "name": "python3"
  },
  "language_info": {
   "codemirror_mode": {
    "name": "ipython",
    "version": 3
   },
   "file_extension": ".py",
   "mimetype": "text/x-python",
   "name": "python",
   "nbconvert_exporter": "python",
   "pygments_lexer": "ipython3",
   "version": "3.11.9"
  }
 },
 "nbformat": 4,
 "nbformat_minor": 5
}
